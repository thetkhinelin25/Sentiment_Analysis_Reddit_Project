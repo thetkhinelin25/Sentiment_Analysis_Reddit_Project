{
 "cells": [
  {
   "cell_type": "markdown",
   "id": "8e2fa429-fe18-45ac-a252-d32ae647db38",
   "metadata": {},
   "source": [
    "# Title: Exploratory Data Analysis (EDA)"
   ]
  },
  {
   "cell_type": "markdown",
   "id": "825c782d-a288-41c4-8730-56d4ec8a7357",
   "metadata": {},
   "source": [
    "### Checking the Number of Rows\n",
    "- **Objective**: Determine the number of rows in both CSV files.\n",
    "- **Reason**: To understand the volume of data collected in each file and verify completeness."
   ]
  },
  {
   "cell_type": "code",
   "execution_count": 2,
   "id": "38408ef9-c1c4-457a-8aa5-e22a0931e4cd",
   "metadata": {},
   "outputs": [
    {
     "name": "stdout",
     "output_type": "stream",
     "text": [
      "climate_change_posts_streaming.csv\n",
      "3973\n",
      "\n",
      "climate_change_sentiment_analysis_streaming.csv\n",
      "3973\n"
     ]
    }
   ],
   "source": [
    "import pandas as pd\n",
    "\n",
    "df1 = pd.read_csv('climate_change_posts_streaming.csv')\n",
    "df2 = pd.read_csv('climate_change_sentiment_analysis_streaming.csv')\n",
    "\n",
    "print('climate_change_posts_streaming.csv')\n",
    "print(len(df1))\n",
    "print(\"\")\n",
    "print('climate_change_sentiment_analysis_streaming.csv')\n",
    "print(len(df2))"
   ]
  },
  {
   "cell_type": "markdown",
   "id": "aa1c35a3-b8f0-4e43-adf0-cbf2771d0491",
   "metadata": {},
   "source": [
    "### Checking for Duplication\n",
    "- **Objective**: Identify duplicate entries in both files.\n",
    "- **Reason**: Ensure data integrity and prevent redundancy during analysis."
   ]
  },
  {
   "cell_type": "code",
   "execution_count": 3,
   "id": "3b31a0bc-bd86-4a23-a6ba-d7e9bfd57c77",
   "metadata": {},
   "outputs": [
    {
     "name": "stdout",
     "output_type": "stream",
     "text": [
      "climate_change_posts_streaming.csv\n",
      "Duplicate IDs:\n",
      "Series([], Name: count, dtype: int64)\n",
      "\n",
      "climate_change_sentiment_analysis_streaming.csv\n",
      "Duplicate IDs:\n",
      "Series([], Name: count, dtype: int64)\n"
     ]
    }
   ],
   "source": [
    "df1 = pd.read_csv('climate_change_posts_streaming.csv')\n",
    "df2 = pd.read_csv('climate_change_sentiment_analysis_streaming.csv')\n",
    "\n",
    "# Count how many times each ID appears\n",
    "duplicate_counts1 = df1['ID'].value_counts()\n",
    "duplicate_counts2 = df2['ID'].value_counts()\n",
    "\n",
    "# Filter IDs that appear more than once\n",
    "duplicate_ids1 = duplicate_counts1[duplicate_counts1 > 1]\n",
    "print('climate_change_posts_streaming.csv')\n",
    "print(f\"Duplicate IDs:\\n{duplicate_ids1}\")\n",
    "print(\"\")\n",
    "duplicate_ids2 = duplicate_counts2[duplicate_counts2 > 1]\n",
    "print('climate_change_sentiment_analysis_streaming.csv')\n",
    "print(f\"Duplicate IDs:\\n{duplicate_ids2}\")"
   ]
  },
  {
   "cell_type": "markdown",
   "id": "c8ca4a64-d8ca-41ca-9860-3353cd5224f7",
   "metadata": {},
   "source": [
    "### Verifying Sentiment Analysis Application\n",
    "- **Objective**: Confirm that all posts collected in **File 1** have been analyzed and saved in **File 2**.\n",
    "- **Reason**: Ensure every collected post has undergone sentiment analysis and no data is missed."
   ]
  },
  {
   "cell_type": "code",
   "execution_count": 4,
   "id": "60a8f00d-7b9e-48fe-b11c-dc069da4eaee",
   "metadata": {},
   "outputs": [
    {
     "name": "stdout",
     "output_type": "stream",
     "text": [
      "All IDs in the first CSV are included in the second CSV.\n"
     ]
    }
   ],
   "source": [
    "import pandas as pd\n",
    "\n",
    "# Load both CSV files\n",
    "df1 = pd.read_csv('climate_change_posts_streaming.csv') \n",
    "df2 = pd.read_csv('climate_change_sentiment_analysis_streaming.csv')  \n",
    "\n",
    "# Assuming the ID column in both CSV files is named 'ID'\n",
    "# Adjust the column name if necessary\n",
    "ids_df1 = df1['ID']  # IDs in the first CSV file\n",
    "ids_df2 = df2['ID']  # IDs in the second CSV file\n",
    "\n",
    "# Check if all IDs in df1 are in df2\n",
    "ids_in_both = ids_df1.isin(ids_df2)\n",
    "\n",
    "# Check if all IDs in the first CSV are present in the second CSV\n",
    "if ids_in_both.all():\n",
    "    print(\"All IDs in the first CSV are included in the second CSV.\")\n",
    "else:\n",
    "    missing_ids = ids_df1[~ids_in_both]\n",
    "    print(\"The following IDs are missing from the second CSV:\", missing_ids.tolist())"
   ]
  },
  {
   "cell_type": "markdown",
   "id": "7f415c63-90a2-4716-9cee-031f93cc9f00",
   "metadata": {},
   "source": [
    "### Extracting November 2024 Data\n",
    "- **Objective**: Filter and isolate data from November 2024.\n",
    "- **Reason**: Focus analysis on posts collected within a specific time frame for detailed insights."
   ]
  },
  {
   "cell_type": "code",
   "execution_count": 5,
   "id": "36d1d200-df85-4cf3-8521-f992743d2b71",
   "metadata": {},
   "outputs": [
    {
     "name": "stdout",
     "output_type": "stream",
     "text": [
      "Extracted 153 rows from November 2024. Saved to filtered_data_november_2024_streaming.csv.\n"
     ]
    }
   ],
   "source": [
    "import pandas as pd\n",
    "\n",
    "# File paths\n",
    "file_path = 'climate_change_sentiment_analysis_streaming.csv'  # Input file\n",
    "output_file = 'filtered_data_november_2024_streaming.csv'  # Output file\n",
    "\n",
    "# Load the data\n",
    "df = pd.read_csv(file_path)\n",
    "\n",
    "# Ensure the Date column is in datetime format\n",
    "df['Date'] = pd.to_datetime(df['Date'])\n",
    "\n",
    "# Filter rows where the date is in November 2024\n",
    "filtered_data = df[(df['Date'].dt.month == 11) & (df['Date'].dt.year == 2024)]\n",
    "\n",
    "# Save the filtered data to a new file\n",
    "filtered_data.to_csv(output_file, index=False)\n",
    "\n",
    "print(f\"Extracted {len(filtered_data)} rows from November 2024. Saved to {output_file}.\")"
   ]
  },
  {
   "cell_type": "code",
   "execution_count": null,
   "id": "cbacb02e-8314-44de-9060-ac237c7397d8",
   "metadata": {},
   "outputs": [],
   "source": []
  }
 ],
 "metadata": {
  "kernelspec": {
   "display_name": "Python 3 (ipykernel)",
   "language": "python",
   "name": "python3"
  },
  "language_info": {
   "codemirror_mode": {
    "name": "ipython",
    "version": 3
   },
   "file_extension": ".py",
   "mimetype": "text/x-python",
   "name": "python",
   "nbconvert_exporter": "python",
   "pygments_lexer": "ipython3",
   "version": "3.10.15"
  }
 },
 "nbformat": 4,
 "nbformat_minor": 5
}
